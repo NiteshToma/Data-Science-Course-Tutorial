{
 "cells": [
  {
   "cell_type": "code",
   "execution_count": 36,
   "id": "87d880e1-cc68-497a-8aaf-9122f630c682",
   "metadata": {},
   "outputs": [],
   "source": [
    "import numpy as np\n",
    "import pandas as pd\n",
    "from sklearn.preprocessing import StandardScaler\n",
    "from sklearn.model_selection import train_test_split\n",
    "import matplotlib.pyplot as plt"
   ]
  },
  {
   "cell_type": "code",
   "execution_count": 37,
   "id": "83c043b6-87c8-479d-8114-38fc32f3fb78",
   "metadata": {},
   "outputs": [
    {
     "data": {
      "text/html": [
       "<div>\n",
       "<style scoped>\n",
       "    .dataframe tbody tr th:only-of-type {\n",
       "        vertical-align: middle;\n",
       "    }\n",
       "\n",
       "    .dataframe tbody tr th {\n",
       "        vertical-align: top;\n",
       "    }\n",
       "\n",
       "    .dataframe thead th {\n",
       "        text-align: right;\n",
       "    }\n",
       "</style>\n",
       "<table border=\"1\" class=\"dataframe\">\n",
       "  <thead>\n",
       "    <tr style=\"text-align: right;\">\n",
       "      <th></th>\n",
       "      <th>CreditScore</th>\n",
       "      <th>Age</th>\n",
       "      <th>Tenure</th>\n",
       "      <th>Balance</th>\n",
       "      <th>NumOfProducts</th>\n",
       "      <th>HasCrCard</th>\n",
       "      <th>IsActiveMember</th>\n",
       "      <th>EstimatedSalary</th>\n",
       "      <th>Exited</th>\n",
       "    </tr>\n",
       "  </thead>\n",
       "  <tbody>\n",
       "    <tr>\n",
       "      <th>0</th>\n",
       "      <td>619</td>\n",
       "      <td>42</td>\n",
       "      <td>2</td>\n",
       "      <td>0.00</td>\n",
       "      <td>1</td>\n",
       "      <td>1</td>\n",
       "      <td>1</td>\n",
       "      <td>101348.88</td>\n",
       "      <td>1</td>\n",
       "    </tr>\n",
       "    <tr>\n",
       "      <th>1</th>\n",
       "      <td>608</td>\n",
       "      <td>41</td>\n",
       "      <td>1</td>\n",
       "      <td>83807.86</td>\n",
       "      <td>1</td>\n",
       "      <td>0</td>\n",
       "      <td>1</td>\n",
       "      <td>112542.58</td>\n",
       "      <td>0</td>\n",
       "    </tr>\n",
       "    <tr>\n",
       "      <th>2</th>\n",
       "      <td>502</td>\n",
       "      <td>42</td>\n",
       "      <td>8</td>\n",
       "      <td>159660.80</td>\n",
       "      <td>3</td>\n",
       "      <td>1</td>\n",
       "      <td>0</td>\n",
       "      <td>113931.57</td>\n",
       "      <td>1</td>\n",
       "    </tr>\n",
       "  </tbody>\n",
       "</table>\n",
       "</div>"
      ],
      "text/plain": [
       "   CreditScore  Age  Tenure    Balance  NumOfProducts  HasCrCard  \\\n",
       "0          619   42       2       0.00              1          1   \n",
       "1          608   41       1   83807.86              1          0   \n",
       "2          502   42       8  159660.80              3          1   \n",
       "\n",
       "   IsActiveMember  EstimatedSalary  Exited  \n",
       "0               1        101348.88       1  \n",
       "1               1        112542.58       0  \n",
       "2               0        113931.57       1  "
      ]
     },
     "execution_count": 37,
     "metadata": {},
     "output_type": "execute_result"
    }
   ],
   "source": [
    "df = pd.read_excel(\"Churn_Modelling.xlsx\")\n",
    "df.head(3)"
   ]
  },
  {
   "cell_type": "code",
   "execution_count": 38,
   "id": "ab66ed6c-bb70-4e1e-a2b5-87cc2fbf5d92",
   "metadata": {},
   "outputs": [],
   "source": [
    "input_data = df.iloc[:,:-1]\n",
    "output_data =df.iloc[:,-1]"
   ]
  },
  {
   "cell_type": "code",
   "execution_count": 39,
   "id": "f5851dbd-9827-4fb1-a557-8bbe9ed77f2a",
   "metadata": {},
   "outputs": [],
   "source": [
    "ss = StandardScaler()\n",
    "input_data = pd.DataFrame(ss.fit_transform(input_data),columns=input_data.columns)"
   ]
  },
  {
   "cell_type": "code",
   "execution_count": 40,
   "id": "df299340-dce8-4d2f-b46b-30093a92ee60",
   "metadata": {},
   "outputs": [
    {
     "data": {
      "text/plain": [
       "(10000, 8)"
      ]
     },
     "execution_count": 40,
     "metadata": {},
     "output_type": "execute_result"
    }
   ],
   "source": [
    "input_data.shape"
   ]
  },
  {
   "cell_type": "code",
   "execution_count": 41,
   "id": "9394609f-502b-4e1f-b0a7-0a9a155a880a",
   "metadata": {},
   "outputs": [],
   "source": [
    "x_train,x_test,y_train,y_test = train_test_split(input_data,output_data,test_size=0.2,random_state=42)"
   ]
  },
  {
   "cell_type": "code",
   "execution_count": 42,
   "id": "f531b9a1-7832-461a-9851-6c12beb13e2c",
   "metadata": {},
   "outputs": [
    {
     "data": {
      "text/plain": [
       "(8000, 8)"
      ]
     },
     "execution_count": 42,
     "metadata": {},
     "output_type": "execute_result"
    }
   ],
   "source": [
    "x_train.shape"
   ]
  },
  {
   "cell_type": "code",
   "execution_count": 43,
   "id": "8e51b99c-ed34-4d1f-a0c0-e9118b878832",
   "metadata": {},
   "outputs": [
    {
     "data": {
      "text/html": [
       "<div>\n",
       "<style scoped>\n",
       "    .dataframe tbody tr th:only-of-type {\n",
       "        vertical-align: middle;\n",
       "    }\n",
       "\n",
       "    .dataframe tbody tr th {\n",
       "        vertical-align: top;\n",
       "    }\n",
       "\n",
       "    .dataframe thead th {\n",
       "        text-align: right;\n",
       "    }\n",
       "</style>\n",
       "<table border=\"1\" class=\"dataframe\">\n",
       "  <thead>\n",
       "    <tr style=\"text-align: right;\">\n",
       "      <th></th>\n",
       "      <th>CreditScore</th>\n",
       "      <th>Age</th>\n",
       "      <th>Tenure</th>\n",
       "      <th>Balance</th>\n",
       "      <th>NumOfProducts</th>\n",
       "      <th>HasCrCard</th>\n",
       "      <th>IsActiveMember</th>\n",
       "      <th>EstimatedSalary</th>\n",
       "    </tr>\n",
       "  </thead>\n",
       "  <tbody>\n",
       "    <tr>\n",
       "      <th>6252</th>\n",
       "      <td>-0.564197</td>\n",
       "      <td>-0.660018</td>\n",
       "      <td>-0.695982</td>\n",
       "      <td>0.324119</td>\n",
       "      <td>0.807737</td>\n",
       "      <td>-1.547768</td>\n",
       "      <td>-1.030670</td>\n",
       "      <td>-1.013811</td>\n",
       "    </tr>\n",
       "    <tr>\n",
       "      <th>4684</th>\n",
       "      <td>-0.284834</td>\n",
       "      <td>0.388871</td>\n",
       "      <td>-1.387538</td>\n",
       "      <td>-1.225848</td>\n",
       "      <td>0.807737</td>\n",
       "      <td>0.646092</td>\n",
       "      <td>0.970243</td>\n",
       "      <td>0.804921</td>\n",
       "    </tr>\n",
       "    <tr>\n",
       "      <th>1731</th>\n",
       "      <td>-0.512463</td>\n",
       "      <td>0.484225</td>\n",
       "      <td>-0.350204</td>\n",
       "      <td>-1.225848</td>\n",
       "      <td>0.807737</td>\n",
       "      <td>0.646092</td>\n",
       "      <td>-1.030670</td>\n",
       "      <td>-0.722147</td>\n",
       "    </tr>\n",
       "    <tr>\n",
       "      <th>4742</th>\n",
       "      <td>-1.495407</td>\n",
       "      <td>1.914528</td>\n",
       "      <td>1.032908</td>\n",
       "      <td>0.683816</td>\n",
       "      <td>0.807737</td>\n",
       "      <td>0.646092</td>\n",
       "      <td>0.970243</td>\n",
       "      <td>1.227481</td>\n",
       "    </tr>\n",
       "    <tr>\n",
       "      <th>4521</th>\n",
       "      <td>-0.936681</td>\n",
       "      <td>-1.136786</td>\n",
       "      <td>0.687130</td>\n",
       "      <td>0.777477</td>\n",
       "      <td>-0.911583</td>\n",
       "      <td>0.646092</td>\n",
       "      <td>0.970243</td>\n",
       "      <td>0.253524</td>\n",
       "    </tr>\n",
       "    <tr>\n",
       "      <th>...</th>\n",
       "      <td>...</td>\n",
       "      <td>...</td>\n",
       "      <td>...</td>\n",
       "      <td>...</td>\n",
       "      <td>...</td>\n",
       "      <td>...</td>\n",
       "      <td>...</td>\n",
       "      <td>...</td>\n",
       "    </tr>\n",
       "    <tr>\n",
       "      <th>6412</th>\n",
       "      <td>-0.502117</td>\n",
       "      <td>1.342407</td>\n",
       "      <td>-0.004426</td>\n",
       "      <td>0.349118</td>\n",
       "      <td>-0.911583</td>\n",
       "      <td>-1.547768</td>\n",
       "      <td>0.970243</td>\n",
       "      <td>-0.957298</td>\n",
       "    </tr>\n",
       "    <tr>\n",
       "      <th>8285</th>\n",
       "      <td>-0.429689</td>\n",
       "      <td>-1.327494</td>\n",
       "      <td>1.724464</td>\n",
       "      <td>-1.225848</td>\n",
       "      <td>-0.911583</td>\n",
       "      <td>-1.547768</td>\n",
       "      <td>0.970243</td>\n",
       "      <td>0.170498</td>\n",
       "    </tr>\n",
       "    <tr>\n",
       "      <th>7853</th>\n",
       "      <td>0.822271</td>\n",
       "      <td>0.770285</td>\n",
       "      <td>0.687130</td>\n",
       "      <td>-1.225848</td>\n",
       "      <td>-0.911583</td>\n",
       "      <td>0.646092</td>\n",
       "      <td>-1.030670</td>\n",
       "      <td>-1.160142</td>\n",
       "    </tr>\n",
       "    <tr>\n",
       "      <th>1095</th>\n",
       "      <td>0.429093</td>\n",
       "      <td>-0.946079</td>\n",
       "      <td>-0.350204</td>\n",
       "      <td>-1.225848</td>\n",
       "      <td>-0.911583</td>\n",
       "      <td>0.646092</td>\n",
       "      <td>-1.030670</td>\n",
       "      <td>-0.405759</td>\n",
       "    </tr>\n",
       "    <tr>\n",
       "      <th>6929</th>\n",
       "      <td>-0.233100</td>\n",
       "      <td>0.007457</td>\n",
       "      <td>-1.387538</td>\n",
       "      <td>0.622738</td>\n",
       "      <td>-0.911583</td>\n",
       "      <td>0.646092</td>\n",
       "      <td>0.970243</td>\n",
       "      <td>0.131879</td>\n",
       "    </tr>\n",
       "  </tbody>\n",
       "</table>\n",
       "<p>2000 rows × 8 columns</p>\n",
       "</div>"
      ],
      "text/plain": [
       "      CreditScore       Age    Tenure   Balance  NumOfProducts  HasCrCard  \\\n",
       "6252    -0.564197 -0.660018 -0.695982  0.324119       0.807737  -1.547768   \n",
       "4684    -0.284834  0.388871 -1.387538 -1.225848       0.807737   0.646092   \n",
       "1731    -0.512463  0.484225 -0.350204 -1.225848       0.807737   0.646092   \n",
       "4742    -1.495407  1.914528  1.032908  0.683816       0.807737   0.646092   \n",
       "4521    -0.936681 -1.136786  0.687130  0.777477      -0.911583   0.646092   \n",
       "...           ...       ...       ...       ...            ...        ...   \n",
       "6412    -0.502117  1.342407 -0.004426  0.349118      -0.911583  -1.547768   \n",
       "8285    -0.429689 -1.327494  1.724464 -1.225848      -0.911583  -1.547768   \n",
       "7853     0.822271  0.770285  0.687130 -1.225848      -0.911583   0.646092   \n",
       "1095     0.429093 -0.946079 -0.350204 -1.225848      -0.911583   0.646092   \n",
       "6929    -0.233100  0.007457 -1.387538  0.622738      -0.911583   0.646092   \n",
       "\n",
       "      IsActiveMember  EstimatedSalary  \n",
       "6252       -1.030670        -1.013811  \n",
       "4684        0.970243         0.804921  \n",
       "1731       -1.030670        -0.722147  \n",
       "4742        0.970243         1.227481  \n",
       "4521        0.970243         0.253524  \n",
       "...              ...              ...  \n",
       "6412        0.970243        -0.957298  \n",
       "8285        0.970243         0.170498  \n",
       "7853       -1.030670        -1.160142  \n",
       "1095       -1.030670        -0.405759  \n",
       "6929        0.970243         0.131879  \n",
       "\n",
       "[2000 rows x 8 columns]"
      ]
     },
     "execution_count": 43,
     "metadata": {},
     "output_type": "execute_result"
    }
   ],
   "source": [
    "x_test"
   ]
  },
  {
   "cell_type": "code",
   "execution_count": 44,
   "id": "9b227257-5ed3-4434-9ff1-0abd738ca46c",
   "metadata": {},
   "outputs": [],
   "source": [
    "import tensorflow as tf\n",
    "from tensorflow.keras.layers import Dense,BatchNormalization,Dropout#BatchNormalization & Dropout  \n",
    "from tensorflow.keras.regularizers import L2\n",
    "from tensorflow.keras.callbacks import EarlyStopping\n",
    "from tensorflow.keras.models import Sequential"
   ]
  },
  {
   "cell_type": "code",
   "execution_count": 45,
   "id": "3be63fbe-512c-415f-8903-a80553a5073f",
   "metadata": {},
   "outputs": [],
   "source": [
    "ann = Sequential()"
   ]
  },
  {
   "cell_type": "code",
   "execution_count": 46,
   "id": "67426419-04e8-473f-9970-88ce5096392a",
   "metadata": {},
   "outputs": [],
   "source": [
    "ann.add(Dense(6, input_dim=8, activation=\"relu\",kernel_regularizer=L2(l2=0.01))) # First hidden layer\n",
    "#ann.add(BatchNormalization())\n",
    "ann.add(Dropout(0.5))\n",
    "ann.add(Dense(4, activation=\"relu\",kernel_regularizer=L2(l2=0.01)))              # Second hidden layer\n",
    "#ann.add(BatchNormalization())\n",
    "ann.add(Dropout(0.5))\n",
    "ann.add(Dense(2, activation=\"relu\",kernel_regularizer=L2(l2=0.01)))              # Third hidden layer\n",
    "#ann.add(BatchNormalization())\n",
    "ann.add(Dropout(0.5))\n",
    "ann.add(Dense(1, activation=\"sigmoid\"))           # Output layer"
   ]
  },
  {
   "cell_type": "code",
   "execution_count": 47,
   "id": "259588bf-b552-49df-9ac4-39ca0c8d412c",
   "metadata": {},
   "outputs": [],
   "source": [
    "ann.compile(optimizer='adam', loss=\"binary_crossentropy\", metrics=[\"accuracy\"])"
   ]
  },
  {
   "cell_type": "code",
   "execution_count": 48,
   "id": "1fbad2a1-7030-4cf1-8ead-123a5fa76afe",
   "metadata": {},
   "outputs": [
    {
     "name": "stdout",
     "output_type": "stream",
     "text": [
      "Epoch 1/50\n",
      "80/80 [==============================] - 2s 9ms/step - loss: 0.8115 - accuracy: 0.7577 - val_loss: 0.7649 - val_accuracy: 0.8020\n",
      "Epoch 2/50\n",
      "80/80 [==============================] - 0s 5ms/step - loss: 0.7317 - accuracy: 0.7825 - val_loss: 0.6869 - val_accuracy: 0.8035\n"
     ]
    },
    {
     "data": {
      "text/plain": [
       "<keras.callbacks.History at 0x2940d6f9130>"
      ]
     },
     "execution_count": 48,
     "metadata": {},
     "output_type": "execute_result"
    }
   ],
   "source": [
    "ann.fit(x_train, y_train, validation_split=0.2, batch_size=100, epochs=50,validation_data=(x_test,y_test),callbacks = EarlyStopping())"
   ]
  },
  {
   "cell_type": "code",
   "execution_count": 49,
   "id": "8279f378-06c1-4105-8828-1cc76cb32483",
   "metadata": {},
   "outputs": [],
   "source": [
    "train_accuracy = ann.history.history[\"accuracy\"]\n",
    "test_accuracy = ann.history.history[\"val_accuracy\"]"
   ]
  },
  {
   "cell_type": "code",
   "execution_count": 50,
   "id": "16b658ea-bada-49a5-aedb-9bf19178e8aa",
   "metadata": {},
   "outputs": [
    {
     "data": {
      "image/png": "[encoded data removed]",
      "text/plain": [
       "<Figure size 640x480 with 1 Axes>"
      ]
     },
     "metadata": {},
     "output_type": "display_data"
    }
   ],
   "source": [
    "plt.plot([i for i in range(1,3)],train_accuracy)\n",
    "plt.plot([i for i in range(1,3)],test_accuracy, c=\"red\")\n",
    "plt.show()"
   ]
  },
  {
   "cell_type": "code",
   "execution_count": 51,
   "id": "a17be7dc-8028-4f1a-b820-815a6b474b3a",
   "metadata": {},
   "outputs": [
    {
     "name": "stdout",
     "output_type": "stream",
     "text": [
      "250/250 [==============================] - 1s 4ms/step\n"
     ]
    }
   ],
   "source": [
    "prd1 = ann.predict(x_train)\n",
    "prd_data1 = [] \n",
    "for i in prd1:\n",
    "    if i[0] > 0.5 :\n",
    "        prd_data1.append(1)\n",
    "    else :\n",
    "        prd_data1.append(0)"
   ]
  },
  {
   "cell_type": "code",
   "execution_count": 52,
   "id": "6929543b-c2f9-4558-904b-c1ae81e2bf47",
   "metadata": {},
   "outputs": [
    {
     "name": "stdout",
     "output_type": "stream",
     "text": [
      "63/63 [==============================] - 1s 8ms/step\n"
     ]
    }
   ],
   "source": [
    "prd = ann.predict(x_test)"
   ]
  },
  {
   "cell_type": "code",
   "execution_count": 53,
   "id": "283cf600-4d5a-485a-8664-5c14382297af",
   "metadata": {},
   "outputs": [],
   "source": [
    "prd_data = [] \n",
    "for i in prd:\n",
    "    if i[0] > 0.5 :\n",
    "        prd_data.append(1)\n",
    "    else :\n",
    "        prd_data.append(0)"
   ]
  },
  {
   "cell_type": "code",
   "execution_count": null,
   "id": "bb68202c-cc08-4ec1-a08b-f6d8ba41367f",
   "metadata": {},
   "outputs": [],
   "source": []
  },
  {
   "cell_type": "code",
   "execution_count": 54,
   "id": "8b217238-114b-4cd2-bc0e-bc866b3fb621",
   "metadata": {},
   "outputs": [],
   "source": [
    "from sklearn.metrics import accuracy_score"
   ]
  },
  {
   "cell_type": "code",
   "execution_count": 55,
   "id": "d4396764-cf60-4517-b754-e5cb9622bf03",
   "metadata": {},
   "outputs": [
    {
     "data": {
      "text/plain": [
       "80.35"
      ]
     },
     "execution_count": 55,
     "metadata": {},
     "output_type": "execute_result"
    }
   ],
   "source": [
    "accuracy_score(y_test,prd_data)*100"
   ]
  },
  {
   "cell_type": "code",
   "execution_count": 56,
   "id": "052886b7-1b45-4421-9566-0102463b2727",
   "metadata": {},
   "outputs": [
    {
     "data": {
      "text/plain": [
       "79.45"
      ]
     },
     "execution_count": 56,
     "metadata": {},
     "output_type": "execute_result"
    }
   ],
   "source": [
    "accuracy_score(y_train,prd_data1)*100"
   ]
  },
  {
   "cell_type": "code",
   "execution_count": null,
   "id": "26144500-ecef-4ead-934d-7d9e1cb24067",
   "metadata": {},
   "outputs": [],
   "source": []
  },
  {
   "cell_type": "code",
   "execution_count": 57,
   "id": "f15325a3-8c06-4085-a54e-61ae0de72265",
   "metadata": {},
   "outputs": [
    {
     "name": "stdout",
     "output_type": "stream",
     "text": [
      "1/1 [==============================] - 0s 131ms/step\n"
     ]
    },
    {
     "data": {
      "text/plain": [
       "[0]"
      ]
     },
     "execution_count": 57,
     "metadata": {},
     "output_type": "execute_result"
    }
   ],
   "source": [
    "prd = ann.predict([[-0.564197,-0.660018,-0.695982,0.324119,0.807737,-1.547768,-1.030670,-1.013811]])\n",
    "prd_data = [] \n",
    "for i in prd:\n",
    "    if i[0] > 0.5 :\n",
    "        prd_data.append(1)\n",
    "    else :\n",
    "        prd_data.append(0)\n",
    "prd_data"
   ]
  },
  {
   "cell_type": "code",
   "execution_count": 58,
   "id": "0909fdea-966d-4a85-9bbb-5c9729f30ccc",
   "metadata": {},
   "outputs": [
    {
     "data": {
      "text/plain": [
       "6252    0\n",
       "4684    0\n",
       "1731    0\n",
       "4742    0\n",
       "4521    0\n",
       "       ..\n",
       "6412    1\n",
       "8285    0\n",
       "7853    1\n",
       "1095    1\n",
       "6929    1\n",
       "Name: Exited, Length: 2000, dtype: int64"
      ]
     },
     "execution_count": 58,
     "metadata": {},
     "output_type": "execute_result"
    }
   ],
   "source": [
    "y_test"
   ]
  },
  {
   "cell_type": "code",
   "execution_count": null,
   "id": "f635565b-4bce-479d-b267-1bd2f0f9afc1",
   "metadata": {},
   "outputs": [],
   "source": []
  },
  {
   "cell_type": "code",
   "execution_count": null,
   "id": "06d29131-56de-4cb6-9a3b-769587d1d32d",
   "metadata": {},
   "outputs": [],
   "source": []
  },
  {
   "cell_type": "code",
   "execution_count": null,
   "id": "643a06ed-e997-485c-98cd-8dbc40cc0ba8",
   "metadata": {},
   "outputs": [],
   "source": []
  },
  {
   "cell_type": "code",
   "execution_count": null,
   "id": "a2261ff0-7204-4b30-a533-6879337a19ff",
   "metadata": {},
   "outputs": [],
   "source": []
  },
  {
   "cell_type": "code",
   "execution_count": null,
   "id": "35906d5e-de56-4e65-8b26-bf7ea266bc24",
   "metadata": {},
   "outputs": [],
   "source": []
  },
  {
   "cell_type": "code",
   "execution_count": null,
   "id": "93f443f5-9bf5-4d78-9ba7-a6a533267395",
   "metadata": {},
   "outputs": [],
   "source": []
  },
  {
   "cell_type": "code",
   "execution_count": null,
   "id": "34d40309-4e52-4dc3-9b79-5b0bcab1e1ef",
   "metadata": {},
   "outputs": [],
   "source": []
  },
  {
   "cell_type": "code",
   "execution_count": null,
   "id": "ec264298-1bda-4c94-8a76-e59d5b705621",
   "metadata": {},
   "outputs": [],
   "source": []
  },
  {
   "cell_type": "code",
   "execution_count": null,
   "id": "d2330352-9857-4002-a351-44b9a3165652",
   "metadata": {},
   "outputs": [],
   "source": []
  },
  {
   "cell_type": "code",
   "execution_count": null,
   "id": "df2f677a-52fc-4c3a-8bb3-fc087b9d392c",
   "metadata": {},
   "outputs": [],
   "source": []
  }
 ],
 "metadata": {
  "kernelspec": {
   "display_name": "Python 3 (ipykernel)",
   "language": "python",
   "name": "python3"
  },
  "language_info": {
   "codemirror_mode": {
    "name": "ipython",
    "version": 3
   },
   "file_extension": ".py",
   "mimetype": "text/x-python",
   "name": "python",
   "nbconvert_exporter": "python",
   "pygments_lexer": "ipython3",
   "version": "3.9.18"
  }
 },
 "nbformat": 4,
 "nbformat_minor": 5
}
