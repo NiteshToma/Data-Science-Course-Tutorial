{
 "cells": [
  {
   "cell_type": "code",
   "execution_count": 1,
   "id": "114964f2-b7fe-4d21-8c33-37e09e998c6d",
   "metadata": {},
   "outputs": [],
   "source": [
    "import matplotlib.pyplot as plt\n",
    "import seaborn as sns\n",
    "from sklearn.datasets import make_moons\n",
    "import pandas as pd"
   ]
  },
  {
   "cell_type": "code",
   "execution_count": 13,
   "id": "77f2bee5-e269-4900-8d0a-583ca2ac3f1a",
   "metadata": {},
   "outputs": [],
   "source": [
    "x,y = make_moons(n_samples=250,noise=0.05)"
   ]
  },
  {
   "cell_type": "code",
   "execution_count": 14,
   "id": "ee0bc91b-f785-42f1-a5c8-ff5ebcf26ff7",
   "metadata": {},
   "outputs": [
    {
     "data": {
      "text/plain": [
       "array([[-2.86188752e-02,  2.47443752e-01],\n",
       "       [-1.75196297e-01,  1.01373215e+00],\n",
       "       [ 7.84723257e-01,  6.83906743e-01],\n",
       "       [ 1.79237576e+00, -9.98449509e-02],\n",
       "       [ 1.47617843e-01,  9.77692272e-01],\n",
       "       [-2.77632388e-01,  9.94812921e-01],\n",
       "       [-9.12553108e-01,  3.51641699e-01],\n",
       "       [ 7.20825372e-01,  7.49739910e-01],\n",
       "       [-9.83239784e-01,  3.37837419e-01],\n",
       "       [ 5.97260860e-01, -4.96346878e-01],\n",
       "       [ 1.59586604e+00, -2.67232024e-01],\n",
       "       [ 6.87948391e-01,  7.09113093e-01],\n",
       "       [ 8.79848782e-01,  5.23589896e-01],\n",
       "       [ 1.29635207e+00, -5.36146766e-01],\n",
       "       [-7.94855181e-01,  5.83193579e-01],\n",
       "       [ 9.54664823e-02,  9.29736094e-02],\n",
       "       [ 1.09027876e+00, -4.87517814e-01],\n",
       "       [ 8.90618406e-01,  4.66387436e-01],\n",
       "       [ 1.86379262e+00, -3.80243838e-02],\n",
       "       [ 9.69560056e-01, -5.35560425e-01],\n",
       "       [ 6.62504451e-01, -4.87903134e-01],\n",
       "       [ 2.01349839e+00,  3.76075292e-01],\n",
       "       [ 6.80849321e-01,  8.07910784e-01],\n",
       "       [ 1.69119482e-01,  1.01308196e+00],\n",
       "       [-3.81831110e-01,  9.42198087e-01],\n",
       "       [ 2.60284325e-01,  8.57886835e-01],\n",
       "       [ 1.09164126e+00, -7.46583288e-02],\n",
       "       [-1.12277241e+00,  1.41272340e-01],\n",
       "       [ 9.66355139e-01,  5.47855910e-01],\n",
       "       [ 8.71802226e-01, -4.66700179e-01],\n",
       "       [-8.14268674e-01,  4.96899584e-01],\n",
       "       [ 3.73353125e-01,  9.89551799e-01],\n",
       "       [ 1.84382462e+00, -1.47830194e-01],\n",
       "       [-1.06182202e-02,  3.77635422e-01],\n",
       "       [ 2.03071955e+00,  3.67967508e-01],\n",
       "       [ 1.46872221e+00, -4.02520527e-01],\n",
       "       [ 8.69289810e-01,  6.35703970e-01],\n",
       "       [-6.08650843e-01,  8.80882895e-01],\n",
       "       [ 7.60359134e-02,  1.63027838e-01],\n",
       "       [ 5.55909333e-01,  8.58700374e-01],\n",
       "       [ 3.48807923e-01, -3.04951584e-01],\n",
       "       [-9.65620162e-01,  6.79928190e-03],\n",
       "       [-8.15985170e-01,  4.57403566e-01],\n",
       "       [ 8.02038285e-01,  6.31783052e-01],\n",
       "       [-1.31508741e-02,  1.04088077e+00],\n",
       "       [ 8.90657803e-01,  2.12962547e-01],\n",
       "       [ 3.72562071e-01, -2.48006131e-01],\n",
       "       [-7.52185259e-01,  6.51337138e-01],\n",
       "       [ 6.89438582e-01,  7.48815469e-01],\n",
       "       [-1.94125934e-01,  9.95212433e-01],\n",
       "       [ 1.60355491e-01, -7.02905309e-02],\n",
       "       [ 5.28893801e-01, -3.05911482e-01],\n",
       "       [-5.57270157e-01,  9.04800088e-01],\n",
       "       [-2.02133309e-03,  4.37672011e-01],\n",
       "       [-7.84801308e-01,  5.98209586e-01],\n",
       "       [ 1.85234828e+00, -1.01532659e-01],\n",
       "       [ 1.85141017e+00,  9.62329676e-03],\n",
       "       [-1.01276964e+00,  1.47444636e-01],\n",
       "       [-8.73639764e-01,  5.68373556e-01],\n",
       "       [ 1.93069083e+00,  4.88740399e-02],\n",
       "       [-8.92390671e-01,  5.42314109e-02],\n",
       "       [ 9.31069807e-01, -5.09548635e-01],\n",
       "       [ 1.00989550e+00, -2.24626865e-02],\n",
       "       [ 3.72439662e-01, -1.95903525e-01],\n",
       "       [ 4.60040473e-01,  9.42291494e-01],\n",
       "       [-5.93054897e-01,  8.34922233e-01],\n",
       "       [ 1.03926227e+00,  1.74391469e-01],\n",
       "       [-7.38632162e-01,  7.89347575e-01],\n",
       "       [-6.92945202e-01,  7.54183313e-01],\n",
       "       [-8.40829795e-01,  4.29300319e-01],\n",
       "       [ 2.54400242e-01,  9.54511766e-01],\n",
       "       [ 1.97222770e+00,  3.25178938e-01],\n",
       "       [ 1.08828475e-01,  1.45915998e-01],\n",
       "       [ 8.03287147e-01,  5.50371116e-01],\n",
       "       [ 7.35052954e-01,  6.55765343e-01],\n",
       "       [-1.03900046e+00,  8.70267192e-02],\n",
       "       [-1.04243941e+00,  2.77846208e-01],\n",
       "       [-4.02401009e-01,  9.07567438e-01],\n",
       "       [ 7.17040773e-01, -4.39225426e-01],\n",
       "       [ 2.01033646e+00,  3.14692740e-01],\n",
       "       [ 1.94258068e+00,  9.56141038e-02],\n",
       "       [ 1.73935881e+00, -2.02725487e-01],\n",
       "       [ 6.26215990e-01,  7.76446781e-01],\n",
       "       [ 5.19476878e-01,  9.45416448e-01],\n",
       "       [-2.95650924e-01,  9.57650125e-01],\n",
       "       [ 5.73443212e-01, -3.88519077e-01],\n",
       "       [ 2.52346301e-01,  9.40042099e-01],\n",
       "       [ 9.12111650e-02,  6.79383756e-02],\n",
       "       [-9.07214782e-01,  2.93820720e-01],\n",
       "       [ 1.02836695e+00,  2.15419031e-01],\n",
       "       [-5.23833726e-01,  8.10298354e-01],\n",
       "       [ 1.68100167e+00, -1.93602255e-01],\n",
       "       [-2.20089757e-02,  1.06111717e+00],\n",
       "       [ 1.87318478e+00, -4.77605958e-02],\n",
       "       [ 1.16702577e+00, -4.87961712e-01],\n",
       "       [ 1.03960067e-01,  1.13800947e-02],\n",
       "       [ 1.78960877e+00, -1.93920184e-01],\n",
       "       [-3.36243371e-01,  8.77177929e-01],\n",
       "       [ 2.02628564e+00,  2.13261411e-01],\n",
       "       [-5.87213606e-01,  8.54577997e-01],\n",
       "       [ 6.58553383e-01,  7.11299345e-01],\n",
       "       [ 1.80240895e-01, -1.12586315e-01],\n",
       "       [-9.70604493e-01,  8.74632559e-02],\n",
       "       [ 2.02155529e+00,  1.52399684e-01],\n",
       "       [ 1.93772427e+00,  2.24786473e-01],\n",
       "       [ 6.38670467e-01, -4.06652753e-01],\n",
       "       [ 2.07612128e-01, -1.55957771e-02],\n",
       "       [ 8.29179247e-01,  5.31176596e-01],\n",
       "       [ 1.22562251e+00, -4.59004946e-01],\n",
       "       [-1.81059336e-01,  8.90890264e-01],\n",
       "       [-7.91590169e-01,  5.54667832e-01],\n",
       "       [-7.23877691e-01,  6.85250795e-01],\n",
       "       [ 3.01009650e-01, -2.41290440e-01],\n",
       "       [-4.75963079e-01,  8.96092222e-01],\n",
       "       [ 7.32636367e-01, -3.52168208e-01],\n",
       "       [-1.00616949e+00,  1.54144719e-01],\n",
       "       [ 8.21760868e-01,  5.33330903e-01],\n",
       "       [ 2.52755755e-01, -6.17769140e-02],\n",
       "       [ 1.00338549e+00,  1.76572442e-02],\n",
       "       [ 1.71986121e+00, -1.95602854e-01],\n",
       "       [ 2.50266662e-02,  4.03408658e-01],\n",
       "       [ 1.50252723e+00, -3.83746316e-01],\n",
       "       [-9.86678280e-01,  6.70285467e-02],\n",
       "       [ 3.27077355e-01,  9.66479731e-01],\n",
       "       [ 9.96100108e-01,  4.07724497e-01],\n",
       "       [-8.46689570e-01,  5.56357322e-01],\n",
       "       [ 1.22682664e+00, -4.44167853e-01],\n",
       "       [-9.78745504e-01,  3.14943620e-01],\n",
       "       [ 1.72942726e+00, -1.54536274e-01],\n",
       "       [ 1.36324705e+00, -4.63670010e-01],\n",
       "       [-3.22218419e-01,  9.21049330e-01],\n",
       "       [ 1.95415866e+00,  6.39137641e-02],\n",
       "       [ 2.00914906e+00,  2.68305087e-01],\n",
       "       [ 1.46657834e+00, -3.04227670e-01],\n",
       "       [-3.40578174e-01,  8.85077054e-01],\n",
       "       [ 1.04902313e+00,  1.50990098e-01],\n",
       "       [ 1.60300447e+00, -2.60127437e-01],\n",
       "       [ 1.70039778e+00, -2.72033821e-01],\n",
       "       [ 5.62204812e-02,  2.31316519e-01],\n",
       "       [ 9.65094522e-01,  2.31983433e-01],\n",
       "       [ 6.58058444e-01,  7.43203795e-01],\n",
       "       [ 2.00377124e+00,  3.24233695e-01],\n",
       "       [ 3.48686748e-01, -3.02051550e-01],\n",
       "       [-6.85865132e-01,  7.74093382e-01],\n",
       "       [ 1.76128777e+00, -2.58190822e-01],\n",
       "       [-7.47505774e-01,  6.97832000e-01],\n",
       "       [-7.79396643e-01,  7.41858101e-01],\n",
       "       [ 8.78453727e-01, -5.02757953e-01],\n",
       "       [ 5.75486158e-01, -4.05903667e-01],\n",
       "       [ 1.45799668e+00, -3.45981466e-01],\n",
       "       [ 3.35224342e-01, -2.47542277e-01],\n",
       "       [ 5.31162044e-01, -3.47882651e-01],\n",
       "       [ 1.96729695e+00,  1.42886621e-01],\n",
       "       [ 1.04540875e-01,  1.02527514e+00],\n",
       "       [ 1.06118520e+00, -5.29201788e-01],\n",
       "       [ 2.65131186e-02,  2.13587330e-01],\n",
       "       [ 1.18047351e+00, -4.24505414e-01],\n",
       "       [ 9.91452710e-03,  3.97051256e-01],\n",
       "       [-9.28633091e-01,  1.73882897e-01],\n",
       "       [ 6.88409142e-01,  8.06760543e-01],\n",
       "       [-5.04049103e-01,  8.65074896e-01],\n",
       "       [ 1.23849270e+00, -5.35433516e-01],\n",
       "       [-7.80631259e-01,  7.14191541e-01],\n",
       "       [-9.33652259e-01,  3.10468783e-01],\n",
       "       [ 1.14474962e+00, -4.80455815e-01],\n",
       "       [ 1.05406216e+00,  6.27385100e-02],\n",
       "       [ 2.05989117e-02,  4.46202924e-01],\n",
       "       [ 2.08333707e+00,  3.17000277e-01],\n",
       "       [-8.61327412e-01,  5.38148714e-01],\n",
       "       [ 8.80148369e-01,  4.12254530e-01],\n",
       "       [ 1.04035394e+00, -5.29767346e-01],\n",
       "       [ 1.75393022e+00, -1.40826895e-01],\n",
       "       [ 1.20737424e-01, -9.02995991e-03],\n",
       "       [ 4.18245437e-01, -3.39997317e-01],\n",
       "       [ 7.96495998e-02, -2.82779878e-02],\n",
       "       [-9.34261138e-01,  3.65492869e-01],\n",
       "       [ 7.57013152e-01, -4.37961885e-01],\n",
       "       [ 4.68022332e-01, -3.44596065e-01],\n",
       "       [ 1.13354798e-01,  9.32289245e-01],\n",
       "       [ 4.83309719e-01, -3.80732322e-01],\n",
       "       [ 2.49977920e-01, -1.94335199e-02],\n",
       "       [ 1.87082857e+00,  1.46176666e-01],\n",
       "       [ 1.27351272e+00, -5.09981389e-01],\n",
       "       [ 3.51114617e-01,  1.01274911e+00],\n",
       "       [ 8.71564831e-02,  1.02423916e+00],\n",
       "       [ 9.67246755e-01,  2.10036793e-01],\n",
       "       [ 1.81292964e+00, -1.50527953e-01],\n",
       "       [ 3.49941680e-01,  8.99138347e-01],\n",
       "       [ 9.73633312e-01, -4.89901396e-01],\n",
       "       [-7.81718553e-02,  9.75032466e-01],\n",
       "       [ 1.11938303e-01,  9.90862113e-01],\n",
       "       [ 8.93495441e-01,  7.32255651e-02],\n",
       "       [ 4.13053877e-01, -3.07227133e-01],\n",
       "       [ 6.26126691e-01, -3.42277124e-01],\n",
       "       [ 1.97847174e-01,  9.36575669e-03],\n",
       "       [ 9.31290046e-01, -4.77857685e-01],\n",
       "       [ 1.55525552e+00, -2.53609408e-01],\n",
       "       [ 1.39576325e+00, -4.32973153e-01],\n",
       "       [-1.81934471e-01,  8.83601713e-01],\n",
       "       [ 8.63443751e-02,  1.03367053e-01],\n",
       "       [ 1.05553722e+00,  1.70063794e-01],\n",
       "       [ 6.86431117e-02,  9.28877106e-01],\n",
       "       [-6.31769983e-01,  7.41560080e-01],\n",
       "       [ 1.92621172e+00,  4.32318068e-01],\n",
       "       [-2.50504372e-01,  1.00992887e+00],\n",
       "       [ 1.78164727e-01,  9.23049042e-01],\n",
       "       [-3.22101595e-01,  9.17208662e-01],\n",
       "       [ 9.24690555e-01,  3.47840128e-01],\n",
       "       [ 8.87454694e-01, -4.98668717e-01],\n",
       "       [ 2.00647371e+00,  4.37668493e-01],\n",
       "       [-5.51909917e-01,  8.52829468e-01],\n",
       "       [ 1.45362462e+00, -4.17228549e-01],\n",
       "       [ 3.85949633e-02,  3.50390541e-01],\n",
       "       [ 7.38333048e-02,  5.90087318e-01],\n",
       "       [-1.02601207e+00,  1.78149572e-01],\n",
       "       [ 1.32493406e+00, -3.99037411e-01],\n",
       "       [ 1.43511469e+00, -4.10710455e-01],\n",
       "       [-8.26965943e-01,  5.65948371e-01],\n",
       "       [ 8.38803592e-01,  5.71187323e-01],\n",
       "       [ 5.28254104e-02,  1.55661729e-01],\n",
       "       [ 1.72686264e+00, -1.75860469e-01],\n",
       "       [ 7.16108541e-01,  6.92394292e-01],\n",
       "       [ 1.93976112e+00,  4.29232704e-01],\n",
       "       [ 6.98164575e-01, -5.14280884e-01],\n",
       "       [ 3.52063137e-02,  1.62809535e-01],\n",
       "       [ 4.65199864e-01,  8.54658029e-01],\n",
       "       [ 1.05905089e+00, -5.39613741e-01],\n",
       "       [ 9.27798321e-01,  3.19477381e-01],\n",
       "       [ 2.61240539e-01, -1.15429401e-01],\n",
       "       [-6.47185197e-01,  7.30233784e-01],\n",
       "       [ 8.67443283e-01,  5.51657097e-01],\n",
       "       [ 1.57743472e+00, -2.71341177e-01],\n",
       "       [ 8.59345069e-01, -5.13751291e-01],\n",
       "       [-1.42482134e-01,  1.04764572e+00],\n",
       "       [ 4.65822646e-01, -3.58776070e-01],\n",
       "       [-1.28492264e-01,  1.04625961e+00],\n",
       "       [ 1.87137729e-01, -1.50136918e-01],\n",
       "       [ 1.73468758e-02,  3.47322430e-01],\n",
       "       [ 6.12246051e-02,  4.52289765e-01],\n",
       "       [ 5.03053834e-01,  9.50155294e-01],\n",
       "       [ 1.92415880e+00,  2.58044890e-02],\n",
       "       [ 1.36171294e+00, -4.37393441e-01],\n",
       "       [ 9.36863142e-01,  3.00374143e-01],\n",
       "       [ 4.71215930e-01,  9.30278967e-01],\n",
       "       [ 4.30192837e-02, -9.50835078e-02],\n",
       "       [ 1.37218020e+00, -4.44416409e-01],\n",
       "       [ 1.05315696e+00,  2.62997142e-02],\n",
       "       [ 1.90109022e+00,  4.91446949e-01],\n",
       "       [ 3.79542409e-01,  9.16256764e-01],\n",
       "       [ 3.10277613e-02,  9.29134534e-01]])"
      ]
     },
     "execution_count": 14,
     "metadata": {},
     "output_type": "execute_result"
    }
   ],
   "source": [
    "x"
   ]
  },
  {
   "cell_type": "code",
   "execution_count": 27,
   "id": "95051142-a72d-4376-9adf-483c62e61531",
   "metadata": {},
   "outputs": [
    {
     "data": {
      "text/plain": [
       "array([1, 0, 0, 1, 0, 0, 0, 0, 0, 1, 1, 0, 0, 1, 0, 1, 1, 0, 1, 1, 1, 1,\n",
       "       0, 0, 0, 0, 0, 0, 0, 1, 0, 0, 1, 1, 1, 1, 0, 0, 1, 0, 1, 0, 0, 0,\n",
       "       0, 0, 1, 0, 0, 0, 1, 1, 0, 1, 0, 1, 1, 0, 0, 1, 0, 1, 0, 1, 0, 0,\n",
       "       0, 0, 0, 0, 0, 1, 1, 0, 0, 0, 0, 0, 1, 1, 1, 1, 0, 0, 0, 1, 0, 1,\n",
       "       0, 0, 0, 1, 0, 1, 1, 1, 1, 0, 1, 0, 0, 1, 0, 1, 1, 1, 1, 0, 1, 0,\n",
       "       0, 0, 1, 0, 1, 0, 0, 1, 0, 1, 1, 1, 0, 0, 0, 0, 1, 0, 1, 1, 0, 1,\n",
       "       1, 1, 0, 0, 1, 1, 1, 0, 0, 1, 1, 0, 1, 0, 0, 1, 1, 1, 1, 1, 1, 0,\n",
       "       1, 1, 1, 1, 0, 0, 0, 1, 0, 0, 1, 0, 1, 1, 0, 0, 1, 1, 1, 1, 1, 0,\n",
       "       1, 1, 0, 1, 1, 1, 1, 0, 0, 0, 1, 0, 1, 0, 0, 0, 1, 1, 1, 1, 1, 1,\n",
       "       0, 1, 0, 0, 0, 1, 0, 0, 0, 0, 1, 1, 0, 1, 1, 1, 0, 1, 1, 0, 0, 1,\n",
       "       1, 0, 1, 1, 1, 0, 1, 0, 1, 0, 0, 1, 1, 0, 1, 0, 1, 1, 1, 0, 1, 1,\n",
       "       0, 0, 1, 1, 0, 1, 0, 0], dtype=int64)"
      ]
     },
     "execution_count": 27,
     "metadata": {},
     "output_type": "execute_result"
    }
   ],
   "source": [
    "y"
   ]
  },
  {
   "cell_type": "code",
   "execution_count": 16,
   "id": "9d67aa73-ef8b-4963-b0aa-77592b902c2b",
   "metadata": {},
   "outputs": [],
   "source": [
    "df = {\"data1\":x[:,0] ,\"data2\":x[:,1]}"
   ]
  },
  {
   "cell_type": "code",
   "execution_count": 17,
   "id": "507ae4f9-5fc5-426f-a9ef-676b06f4e0fd",
   "metadata": {},
   "outputs": [],
   "source": [
    "dataset = pd.DataFrame(df)"
   ]
  },
  {
   "cell_type": "code",
   "execution_count": 18,
   "id": "fa59566f-20f5-4af4-8481-51f2b7ed0efa",
   "metadata": {},
   "outputs": [
    {
     "data": {
      "text/html": [
       "<div>\n",
       "<style scoped>\n",
       "    .dataframe tbody tr th:only-of-type {\n",
       "        vertical-align: middle;\n",
       "    }\n",
       "\n",
       "    .dataframe tbody tr th {\n",
       "        vertical-align: top;\n",
       "    }\n",
       "\n",
       "    .dataframe thead th {\n",
       "        text-align: right;\n",
       "    }\n",
       "</style>\n",
       "<table border=\"1\" class=\"dataframe\">\n",
       "  <thead>\n",
       "    <tr style=\"text-align: right;\">\n",
       "      <th></th>\n",
       "      <th>data1</th>\n",
       "      <th>data2</th>\n",
       "    </tr>\n",
       "  </thead>\n",
       "  <tbody>\n",
       "    <tr>\n",
       "      <th>0</th>\n",
       "      <td>-0.028619</td>\n",
       "      <td>0.247444</td>\n",
       "    </tr>\n",
       "    <tr>\n",
       "      <th>1</th>\n",
       "      <td>-0.175196</td>\n",
       "      <td>1.013732</td>\n",
       "    </tr>\n",
       "    <tr>\n",
       "      <th>2</th>\n",
       "      <td>0.784723</td>\n",
       "      <td>0.683907</td>\n",
       "    </tr>\n",
       "    <tr>\n",
       "      <th>3</th>\n",
       "      <td>1.792376</td>\n",
       "      <td>-0.099845</td>\n",
       "    </tr>\n",
       "    <tr>\n",
       "      <th>4</th>\n",
       "      <td>0.147618</td>\n",
       "      <td>0.977692</td>\n",
       "    </tr>\n",
       "  </tbody>\n",
       "</table>\n",
       "</div>"
      ],
      "text/plain": [
       "      data1     data2\n",
       "0 -0.028619  0.247444\n",
       "1 -0.175196  1.013732\n",
       "2  0.784723  0.683907\n",
       "3  1.792376 -0.099845\n",
       "4  0.147618  0.977692"
      ]
     },
     "execution_count": 18,
     "metadata": {},
     "output_type": "execute_result"
    }
   ],
   "source": [
    "dataset.head()"
   ]
  },
  {
   "cell_type": "code",
   "execution_count": 19,
   "id": "8b5fa345-2b7e-48ad-adeb-1d97c51ae0dc",
   "metadata": {},
   "outputs": [
    {
     "data": {
      "image/png": "[encoded data removed]",
      "text/plain": [
       "<Figure size 640x480 with 1 Axes>"
      ]
     },
     "metadata": {},
     "output_type": "display_data"
    }
   ],
   "source": [
    "sns.scatterplot(x =\"data1\", y =\"data2\",data=dataset)\n",
    "plt.show()"
   ]
  },
  {
   "cell_type": "code",
   "execution_count": 20,
   "id": "cacf4193-a0ea-4c48-8138-58c485843036",
   "metadata": {},
   "outputs": [],
   "source": [
    "from sklearn.cluster import DBSCAN"
   ]
  },
  {
   "cell_type": "code",
   "execution_count": 21,
   "id": "69df0531-33a1-42a6-90a1-d27a949ec4bf",
   "metadata": {},
   "outputs": [],
   "source": [
    "db = DBSCAN(eps=0.2,min_samples=5)\n",
    "dataset[\"Predicted\"] = db.fit_predict(dataset)"
   ]
  },
  {
   "cell_type": "code",
   "execution_count": 22,
   "id": "6767cbe2-2f56-4831-8a30-2d72041862fd",
   "metadata": {},
   "outputs": [
    {
     "data": {
      "text/plain": [
       "array([0, 1, 1, 0, 1, 1, 1, 1, 1, 0, 0, 1, 1, 0, 1, 0, 0, 1, 0, 0, 0, 0,\n",
       "       1, 1, 1, 1, 1, 1, 1, 0, 1, 1, 0, 0, 0, 0, 1, 1, 0, 1, 0, 1, 1, 1,\n",
       "       1, 1, 0, 1, 1, 1, 0, 0, 1, 0, 1, 0, 0, 1, 1, 0, 1, 0, 1, 0, 1, 1,\n",
       "       1, 1, 1, 1, 1, 0, 0, 1, 1, 1, 1, 1, 0, 0, 0, 0, 1, 1, 1, 0, 1, 0,\n",
       "       1, 1, 1, 0, 1, 0, 0, 0, 0, 1, 0, 1, 1, 0, 1, 0, 0, 0, 0, 1, 0, 1,\n",
       "       1, 1, 0, 1, 0, 1, 1, 0, 1, 0, 0, 0, 1, 1, 1, 1, 0, 1, 0, 0, 1, 0,\n",
       "       0, 0, 1, 1, 0, 0, 0, 1, 1, 0, 0, 1, 0, 1, 1, 0, 0, 0, 0, 0, 0, 1,\n",
       "       0, 0, 0, 0, 1, 1, 1, 0, 1, 1, 0, 1, 0, 0, 1, 1, 0, 0, 0, 0, 0, 1,\n",
       "       0, 0, 1, 0, 0, 0, 0, 1, 1, 1, 0, 1, 0, 1, 1, 1, 0, 0, 0, 0, 0, 0,\n",
       "       1, 0, 1, 1, 1, 0, 1, 1, 1, 1, 0, 0, 1, 0, 0, 0, 1, 0, 0, 1, 1, 0,\n",
       "       0, 1, 0, 0, 0, 1, 0, 1, 0, 1, 1, 0, 0, 1, 0, 1, 0, 0, 0, 1, 0, 0,\n",
       "       1, 1, 0, 0, 1, 0, 1, 1], dtype=int64)"
      ]
     },
     "execution_count": 22,
     "metadata": {},
     "output_type": "execute_result"
    }
   ],
   "source": [
    "db.fit_predict(dataset)"
   ]
  },
  {
   "cell_type": "code",
   "execution_count": 23,
   "id": "bc9a1831-767c-4797-bad6-8475456843e6",
   "metadata": {},
   "outputs": [
    {
     "data": {
      "image/png": "[encoded data removed]",
      "text/plain": [
       "<Figure size 640x480 with 1 Axes>"
      ]
     },
     "metadata": {},
     "output_type": "display_data"
    }
   ],
   "source": [
    "sns.scatterplot(x=\"data1\", y=\"data2\",data=dataset,hue=\"Predicted\")\n",
    "plt.show()"
   ]
  },
  {
   "cell_type": "code",
   "execution_count": null,
   "id": "c4adf5bb-8411-4d39-990c-12cfacb9c2a4",
   "metadata": {},
   "outputs": [],
   "source": []
  },
  {
   "cell_type": "code",
   "execution_count": null,
   "id": "90426188-78b2-4919-99cd-461b3be9ce26",
   "metadata": {},
   "outputs": [],
   "source": []
  },
  {
   "cell_type": "code",
   "execution_count": null,
   "id": "8e5794a8-cfdf-489e-8ea5-726a812345c7",
   "metadata": {},
   "outputs": [],
   "source": []
  },
  {
   "cell_type": "code",
   "execution_count": null,
   "id": "4ef39897-ee6b-4a66-8eee-ad62a5fa41f4",
   "metadata": {},
   "outputs": [],
   "source": []
  },
  {
   "cell_type": "code",
   "execution_count": null,
   "id": "933352ac-950a-4412-95ec-f28a7798472e",
   "metadata": {},
   "outputs": [],
   "source": []
  },
  {
   "cell_type": "code",
   "execution_count": null,
   "id": "e1923a15-4be1-4fca-935c-e4a06dfcc073",
   "metadata": {},
   "outputs": [],
   "source": []
  },
  {
   "cell_type": "code",
   "execution_count": null,
   "id": "db9c010a-9675-432a-8f44-f79944772256",
   "metadata": {},
   "outputs": [],
   "source": []
  },
  {
   "cell_type": "code",
   "execution_count": null,
   "id": "89e0780c-0485-4105-85a0-3b62054cf5ea",
   "metadata": {},
   "outputs": [],
   "source": []
  },
  {
   "cell_type": "code",
   "execution_count": null,
   "id": "c4cd0fd5-c05e-438e-97f0-079d61e498a6",
   "metadata": {},
   "outputs": [],
   "source": []
  },
  {
   "cell_type": "code",
   "execution_count": null,
   "id": "3c59e0c8-072d-4de4-887c-c05d0a411927",
   "metadata": {},
   "outputs": [],
   "source": []
  },
  {
   "cell_type": "code",
   "execution_count": null,
   "id": "2f8e30a1-279b-4fdb-83d2-c2e58976f524",
   "metadata": {},
   "outputs": [],
   "source": []
  },
  {
   "cell_type": "code",
   "execution_count": null,
   "id": "e746b1fe-fe52-4c6f-8596-02a92af69cca",
   "metadata": {},
   "outputs": [],
   "source": []
  }
 ],
 "metadata": {
  "kernelspec": {
   "display_name": "Python 3 (ipykernel)",
   "language": "python",
   "name": "python3"
  },
  "language_info": {
   "codemirror_mode": {
    "name": "ipython",
    "version": 3
   },
   "file_extension": ".py",
   "mimetype": "text/x-python",
   "name": "python",
   "nbconvert_exporter": "python",
   "pygments_lexer": "ipython3",
   "version": "3.11.7"
  }
 },
 "nbformat": 4,
 "nbformat_minor": 5
}
