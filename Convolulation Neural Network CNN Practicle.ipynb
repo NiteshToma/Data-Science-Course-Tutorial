{
 "cells": [
  {
   "cell_type": "code",
   "execution_count": 1,
   "id": "17e876ed-3baa-49c0-bb59-a9c8be374f01",
   "metadata": {},
   "outputs": [],
   "source": [
    "import os \n",
    "os.environ['KMP_DUPLICATE_LIB_OK']='True'"
   ]
  },
  {
   "cell_type": "code",
   "execution_count": 2,
   "id": "459695b4-a03e-4f52-93ef-24ab4ad4dcd1",
   "metadata": {},
   "outputs": [],
   "source": [
    "import numpy as np\n",
    "import tensorflow"
   ]
  },
  {
   "cell_type": "code",
   "execution_count": 3,
   "id": "4ff7df5a-315d-4a45-8d2a-74c93a1e68c0",
   "metadata": {},
   "outputs": [],
   "source": [
    "import tensorflow as tf\n",
    "from tensorflow.keras.preprocessing.image import ImageDataGenerator\n",
    "from tensorflow.keras.models import Sequential\n",
    "from tensorflow.keras.layers import Conv2D, MaxPooling2D, Flatten, Dense, Dropout\n"
   ]
  },
  {
   "cell_type": "code",
   "execution_count": 4,
   "id": "68da48de-2e26-4693-b761-96d32579ac69",
   "metadata": {},
   "outputs": [],
   "source": [
    "cnn = Sequential()"
   ]
  },
  {
   "cell_type": "code",
   "execution_count": 5,
   "id": "118b4ffa-3edf-4290-99b3-f06badd676f4",
   "metadata": {},
   "outputs": [],
   "source": [
    "cnn.add(Conv2D(32,(3,3),input_shape = (64,64,3),activation=\"relu\"))\n",
    "cnn.add(MaxPooling2D(pool_size=(2, 2)))\n",
    "cnn.add(Conv2D(16,(3,3),activation=\"relu\"))\n",
    "cnn.add(MaxPooling2D(pool_size=(2, 2)))\n",
    "cnn.add(Flatten())"
   ]
  },
  {
   "cell_type": "code",
   "execution_count": 6,
   "id": "53bd6931-e483-403f-8932-59b062efd50e",
   "metadata": {},
   "outputs": [],
   "source": [
    "cnn.add(Dense(64,activation=\"relu\"))\n",
    "cnn.add(Dense(32,activation=\"relu\"))\n",
    "cnn.add(Dense(16,activation=\"relu\"))\n",
    "cnn.add(Dense(8,activation=\"relu\"))\n",
    "cnn.add(Dense(4,activation=\"relu\"))\n",
    "cnn.add(Dense(1,activation=\"sigmoid\"))"
   ]
  },
  {
   "cell_type": "code",
   "execution_count": 7,
   "id": "6845d2bb-7bdf-4c0d-9671-c2d4405ba695",
   "metadata": {},
   "outputs": [],
   "source": [
    "cnn.compile(loss=\"binary_crossentropy\",optimizer=\"adam\",metrics=['accuracy'])"
   ]
  },
  {
   "cell_type": "code",
   "execution_count": 8,
   "id": "e56b344c-0919-4c15-87b8-fa8e6580df3c",
   "metadata": {},
   "outputs": [
    {
     "name": "stdout",
     "output_type": "stream",
     "text": [
      "Found 577 images belonging to 1 classes.\n",
      "Found 120 images belonging to 1 classes.\n",
      "Epoch 1/5\n",
      "19/19 [==============================] - 19s 918ms/step - loss: 0.6894 - accuracy: 0.9636 - val_loss: 0.6837 - val_accuracy: 1.0000\n",
      "Epoch 2/5\n",
      "19/19 [==============================] - 14s 745ms/step - loss: 0.6791 - accuracy: 1.0000 - val_loss: 0.6744 - val_accuracy: 1.0000\n",
      "Epoch 3/5\n",
      "19/19 [==============================] - 14s 744ms/step - loss: 0.6698 - accuracy: 1.0000 - val_loss: 0.6652 - val_accuracy: 1.0000\n",
      "Epoch 4/5\n",
      "19/19 [==============================] - 18s 946ms/step - loss: 0.6610 - accuracy: 1.0000 - val_loss: 0.6561 - val_accuracy: 1.0000\n",
      "Epoch 5/5\n",
      "19/19 [==============================] - 15s 793ms/step - loss: 0.6520 - accuracy: 1.0000 - val_loss: 0.6472 - val_accuracy: 1.0000\n"
     ]
    },
    {
     "data": {
      "text/plain": [
       "<keras.callbacks.History at 0x12a082c4d00>"
      ]
     },
     "execution_count": 8,
     "metadata": {},
     "output_type": "execute_result"
    }
   ],
   "source": [
    "train_datagen = ImageDataGenerator(\n",
    "        rescale=1./255,\n",
    "        shear_range=0.2,\n",
    "        zoom_range=0.2,\n",
    "        horizontal_flip=True)\n",
    "\n",
    "test_datagen = ImageDataGenerator(rescale=1./255)\n",
    "\n",
    "train_generator = train_datagen.flow_from_directory(\n",
    "        r'C:\\Users\\Nitesh\\Desktop\\train',\n",
    "        target_size=(64, 64),\n",
    "        batch_size=32,\n",
    "        class_mode='binary')\n",
    "\n",
    "test_generator = test_datagen.flow_from_directory(\n",
    "        r'C:\\Users\\Nitesh\\Desktop\\Testdata',\n",
    "        target_size=(64, 64),\n",
    "        batch_size=32,\n",
    "        class_mode='binary')\n",
    "\n",
    "cnn.fit(\n",
    "    train_generator,\n",
    "    steps_per_epoch=len(train_generator),  # Number of steps per epoch\n",
    "    epochs=5,  # Number of epochs\n",
    "    validation_data=test_generator,\n",
    "    validation_steps=len(test_generator)  # Validation steps\n",
    ")\n"
   ]
  },
  {
   "cell_type": "code",
   "execution_count": 9,
   "id": "40745d40-01c4-4f84-a15f-32511a8e0639",
   "metadata": {},
   "outputs": [],
   "source": [
    "import keras.utils as image"
   ]
  },
  {
   "cell_type": "code",
   "execution_count": 23,
   "id": "560c0939-f8f7-4ce1-84d5-14bea05d6968",
   "metadata": {},
   "outputs": [],
   "source": [
    "img = image.load_img(r\"C:\\Users\\Nitesh\\Desktop\\Testdata\\Test_data\\dogs\\cat_109.jpg \",target_size=(64,64))"
   ]
  },
  {
   "cell_type": "code",
   "execution_count": 24,
   "id": "5412c20d-1dba-405f-9da7-d3cd5ad50300",
   "metadata": {},
   "outputs": [],
   "source": [
    "img = image.img_to_array(img)"
   ]
  },
  {
   "cell_type": "code",
   "execution_count": 25,
   "id": "b323248e-287f-4d0a-bc93-5039a678075d",
   "metadata": {},
   "outputs": [],
   "source": [
    "#cnn.fit_generator(train_generator,steps_per_epoch=20,epochs=100,validation_data=test_generator)\n"
   ]
  },
  {
   "cell_type": "code",
   "execution_count": 26,
   "id": "d54a432a-06d7-49e2-baed-e2e685d05ca1",
   "metadata": {},
   "outputs": [],
   "source": [
    "img = np.expand_dims(img,axis=0)"
   ]
  },
  {
   "cell_type": "code",
   "execution_count": 27,
   "id": "2393c1e1-edb0-4c25-81dd-118a99bf637e",
   "metadata": {},
   "outputs": [
    {
     "name": "stdout",
     "output_type": "stream",
     "text": [
      "1/1 [==============================] - 0s 497ms/step\n"
     ]
    }
   ],
   "source": [
    "p = cnn.predict(img)"
   ]
  },
  {
   "cell_type": "code",
   "execution_count": 30,
   "id": "3e7bacab-9a8e-4384-b210-74d6e38e5897",
   "metadata": {},
   "outputs": [
    {
     "name": "stdout",
     "output_type": "stream",
     "text": [
      "cat\n"
     ]
    }
   ],
   "source": [
    "if p[0][0] < 0 :\n",
    "    print(\"Dog\")\n",
    "else :\n",
    "    print(\"cat\")\n"
   ]
  },
  {
   "cell_type": "code",
   "execution_count": null,
   "id": "d214f110-4b00-4ce5-a874-c1e08d3d82e7",
   "metadata": {},
   "outputs": [],
   "source": []
  },
  {
   "cell_type": "code",
   "execution_count": null,
   "id": "5b494c45-a393-4074-8aef-abf3e60ed549",
   "metadata": {},
   "outputs": [],
   "source": []
  },
  {
   "cell_type": "code",
   "execution_count": null,
   "id": "94ece75a-06cb-4886-8e40-37e79341f0eb",
   "metadata": {},
   "outputs": [],
   "source": []
  },
  {
   "cell_type": "code",
   "execution_count": null,
   "id": "494ed5f6-da31-45b2-9836-0e5995c519c2",
   "metadata": {},
   "outputs": [],
   "source": []
  },
  {
   "cell_type": "code",
   "execution_count": null,
   "id": "33403392-26f1-4244-a6f2-a209304bfc2d",
   "metadata": {},
   "outputs": [],
   "source": []
  }
 ],
 "metadata": {
  "kernelspec": {
   "display_name": "Python 3 (ipykernel)",
   "language": "python",
   "name": "python3"
  },
  "language_info": {
   "codemirror_mode": {
    "name": "ipython",
    "version": 3
   },
   "file_extension": ".py",
   "mimetype": "text/x-python",
   "name": "python",
   "nbconvert_exporter": "python",
   "pygments_lexer": "ipython3",
   "version": "3.9.18"
  }
 },
 "nbformat": 4,
 "nbformat_minor": 5
}
