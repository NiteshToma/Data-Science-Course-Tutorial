{
 "cells": [
  {
   "cell_type": "code",
   "execution_count": 1,
   "id": "18df4b7b-c024-4859-9eb2-8bbc582706d4",
   "metadata": {},
   "outputs": [],
   "source": [
    "import os \n",
    "os.environ['KMP_DUPLICATE_LIB_OK']='True'"
   ]
  },
  {
   "cell_type": "code",
   "execution_count": 2,
   "id": "864f26b4-f2cc-45b3-8ca4-e54a814e9707",
   "metadata": {},
   "outputs": [
    {
     "name": "stdout",
     "output_type": "stream",
     "text": [
      "Found 557 images belonging to 1 classes.\n",
      "Found 140 images belonging to 1 classes.\n",
      "Epoch 1/5\n",
      "18/18 [==============================] - 16s 832ms/step - loss: 0.0572 - accuracy: 0.9569 - val_loss: 1.6318e-24 - val_accuracy: 1.0000\n",
      "Epoch 2/5\n",
      "18/18 [==============================] - 16s 889ms/step - loss: 9.0466e-20 - accuracy: 1.0000 - val_loss: 1.0908e-35 - val_accuracy: 1.0000\n",
      "Epoch 3/5\n",
      "18/18 [==============================] - 14s 798ms/step - loss: 9.3765e-21 - accuracy: 1.0000 - val_loss: 3.7902e-38 - val_accuracy: 1.0000\n",
      "Epoch 4/5\n",
      "18/18 [==============================] - 14s 769ms/step - loss: 1.8257e-28 - accuracy: 1.0000 - val_loss: 1.3400e-38 - val_accuracy: 1.0000\n",
      "Epoch 5/5\n",
      "18/18 [==============================] - 17s 968ms/step - loss: 1.1491e-23 - accuracy: 1.0000 - val_loss: 0.0000e+00 - val_accuracy: 1.0000\n"
     ]
    },
    {
     "data": {
      "text/plain": [
       "<keras.callbacks.History at 0x2b866cf2430>"
      ]
     },
     "execution_count": 2,
     "metadata": {},
     "output_type": "execute_result"
    }
   ],
   "source": [
    "import tensorflow as tf\n",
    "from tensorflow.keras.preprocessing.image import ImageDataGenerator\n",
    "from tensorflow.keras.models import Sequential\n",
    "from tensorflow.keras.layers import Conv2D, MaxPooling2D, Flatten, Dense, Dropout\n",
    "\n",
    "# Set paths to data directories\n",
    "train_dir = r'C:\\Users\\Nitesh\\Desktop\\train'  # Path to the training data\n",
    "Test_dir = r'C:\\Users\\Nitesh\\Desktop\\Testdata'  # Path to the validation data\n",
    "\n",
    "# Data Preprocessing\n",
    "train_datagen = ImageDataGenerator(\n",
    "    rescale=1.0/255,  # Normalize pixel values between 0 and 1\n",
    "    shear_range=0.2,  # Shear transformation\n",
    "    zoom_range=0.2,  # Zoom transformation\n",
    "    horizontal_flip=True  # Random horizontal flips\n",
    ")\n",
    "\n",
    "validation_datagen = ImageDataGenerator(rescale=1.0/255)  # Normalize validation data\n",
    "\n",
    "# Load data from directories\n",
    "train_generator = train_datagen.flow_from_directory(\n",
    "    train_dir,\n",
    "    target_size=(64, 64),  # Resize all images to 64x64\n",
    "    batch_size=32,\n",
    "    class_mode='binary'  # For binary classification; use 'categorical' for multi-class\n",
    ")\n",
    "\n",
    "Test_generator = validation_datagen.flow_from_directory(\n",
    "    Test_dir,\n",
    "    target_size=(64, 64),  # Resize all images to 64x64\n",
    "    batch_size=32,\n",
    "    class_mode='binary'\n",
    ")\n",
    "\n",
    "# Building the CNN model\n",
    "model = Sequential()\n",
    "\n",
    "# Convolutional and pooling layers\n",
    "model.add(Conv2D(32, (3, 3), activation='relu', input_shape=(64, 64, 3)))\n",
    "model.add(MaxPooling2D(pool_size=(2, 2)))\n",
    "\n",
    "model.add(Conv2D(64, (3, 3), activation='relu'))\n",
    "model.add(MaxPooling2D(pool_size=(2, 2)))\n",
    "\n",
    "model.add(Conv2D(128, (3, 3), activation='relu'))\n",
    "model.add(MaxPooling2D(pool_size=(2, 2)))\n",
    "\n",
    "# Flattening\n",
    "model.add(Flatten())\n",
    "\n",
    "# Fully connected layers\n",
    "model.add(Dense(units=128, activation='relu'))\n",
    "model.add(Dropout(0.5))  # Dropout to reduce overfitting\n",
    "model.add(Dense(units=1, activation='sigmoid'))  # Output layer for binary classification\n",
    "\n",
    "# Compiling the model\n",
    "model.compile(optimizer='adam', loss='binary_crossentropy', metrics=['accuracy'])\n",
    "\n",
    "# Training the model\n",
    "\n",
    "model.fit(\n",
    "    train_generator,\n",
    "    steps_per_epoch=len(train_generator),  # Number of steps per epoch\n",
    "    epochs=5,  # Number of epochs\n",
    "    validation_data=Test_generator,\n",
    "    validation_steps=len(Test_generator)  # Validation steps\n",
    ")\n"
   ]
  },
  {
   "cell_type": "code",
   "execution_count": null,
   "id": "56f0b8f2-28f9-4438-9bc7-ade8533ef0f2",
   "metadata": {},
   "outputs": [],
   "source": []
  },
  {
   "cell_type": "code",
   "execution_count": null,
   "id": "a082dbf3-8c32-413d-9b7b-e701c92f7a87",
   "metadata": {},
   "outputs": [],
   "source": []
  }
 ],
 "metadata": {
  "kernelspec": {
   "display_name": "Python 3 (ipykernel)",
   "language": "python",
   "name": "python3"
  },
  "language_info": {
   "codemirror_mode": {
    "name": "ipython",
    "version": 3
   },
   "file_extension": ".py",
   "mimetype": "text/x-python",
   "name": "python",
   "nbconvert_exporter": "python",
   "pygments_lexer": "ipython3",
   "version": "3.9.18"
  }
 },
 "nbformat": 4,
 "nbformat_minor": 5
}
